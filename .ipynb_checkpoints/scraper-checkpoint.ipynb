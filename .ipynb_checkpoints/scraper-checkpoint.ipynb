{
 "cells": [
  {
   "cell_type": "code",
   "execution_count": null,
   "metadata": {
    "collapsed": true
   },
   "outputs": [],
   "source": [
    "#import libraries\n",
    "import urllib2\n",
    "from bs4 import BeautifulSoup\n",
    "import pandas as pd\n",
    "import re\n",
    "import pickle"
   ]
  },
  {
   "cell_type": "code",
   "execution_count": null,
   "metadata": {
    "collapsed": true
   },
   "outputs": [],
   "source": [
    "def set_url_parse(url):\n",
    "    url = url\n",
    "    page = urllib2.urlopen(url)\n",
    "    soup = BeautifulSoup(page,'html.parser')\n",
    "    return soup"
   ]
  },
  {
   "cell_type": "code",
   "execution_count": null,
   "metadata": {
    "collapsed": true
   },
   "outputs": [],
   "source": [
    "reviews_df = pd.DataFrame()\n",
    "prices_df = pd.DataFrame()"
   ]
  },
  {
   "cell_type": "code",
   "execution_count": null,
   "metadata": {
    "collapsed": true
   },
   "outputs": [],
   "source": [
    "urls =['https://www.cardekho.com/cars/Maruti','https://www.cardekho.com/cars/Hyundai','https://www.cardekho.com/cars/Honda','https://www.cardekho.com/cars/Toyota','https://www.cardekho.com/cars/Mahindra','https://www.cardekho.com/cars/Tata','https://www.cardekho.com/cars/Ford','https://www.cardekho.com/cars/Renault','https://www.cardekho.com/cars/Volkswagen','https://www.cardekho.com/cars/Audi','https://www.cardekho.com/cars/Nissan','https://www.cardekho.com/cars/Datsun','https://www.cardekho.com/cars/Mercedes-Benz','https://www.cardekho.com/cars/Jaguar','https://www.cardekho.com/cars/BMW','https://www.cardekho.com/cars/Skoda','https://www.cardekho.com/cars/Fiat','https://www.cardekho.com/cars/Ferrari','https://www.cardekho.com/cars/Land_Rover','https://www.cardekho.com/cars/Rolls-Royce','https://www.cardekho.com/cars/Porsche','https://www.cardekho.com/cars/Bentley','https://www.cardekho.com/cars/Mitsubishi','https://www.cardekho.com/cars/DC','https://www.cardekho.com/cars/Bugatti','https://www.cardekho.com/cars/Force','https://www.cardekho.com/cars/ICML','https://www.cardekho.com/cars/Isuzu','https://www.cardekho.com/cars/Lamborghini','https://www.cardekho.com/cars/Mahindra_Ssangyong','https://www.cardekho.com/cars/Mini','https://www.cardekho.com/cars/Aston_Martin','https://www.cardekho.com/cars/Premier','https://www.cardekho.com/cars/Volvo','https://www.cardekho.com/cars/Abarth','https://www.cardekho.com/cars/Conquest','https://www.cardekho.com/cars/Jeep','https://www.cardekho.com/cars/Maserati','https://www.cardekho.com/cars/Tesla','https://www.cardekho.com/cars/Lexus','https://www.cardekho.com/cars/Chevrolet']\n",
    "brands = ['Maruti Suzuki','Hyundai','Honda','Toyota','Mahindra','Tata','Ford','Renault','Volkswagen','Audi','Nissan','Datsun','Mercedes-Benz','Jaguar','BMW','Skoda','Fiat','Ferrari','Land Rover','Rolls-Royce','Porche','Bentley','Mitsubishi','DC','Bugatti','Force','ICML','Isuzu','Lamborghini','Mahindra Ssangyong','Mini','Aston Martin','Premier','Volvo','Abarth','Conquest','Jeep','Meserati','Tesla','Lexus','Chevrolet']"
   ]
  },
  {
   "cell_type": "code",
   "execution_count": null,
   "metadata": {},
   "outputs": [],
   "source": [
    "counter = 0\n",
    "for u in urls:\n",
    "    soup = set_url_parse(u)\n",
    "    name_box = soup.find_all('a',attrs={'class': \"modeltext\"})\n",
    "    if name_box:\n",
    "        cars=[]\n",
    "        for i in name_box:\n",
    "            cars.append(i.get('href'))\n",
    "        car_names=[] \n",
    "        for i in name_box:\n",
    "            car_names.append(i.get('title'))\n",
    "        for car_url in range(len(cars)):\n",
    "            print(\"For car: \", car_names[car_url])\n",
    "            data1 = []\n",
    "            data1.append(car_names[car_url])\n",
    "            #for every car\n",
    "            soup = set_url_parse(cars[car_url])\n",
    "            #find price of every car\n",
    "            price = soup.find('div',attrs={'class': \"priceleft\"})\n",
    "            string = price.find('div').text\n",
    "            find = re.search('[-+]?([0-9]*\\.[0-9]+|[0-9]+) - [-+]?([0-9]*\\.[0-9]+|[0-9]+)',string)\n",
    "            if find:\n",
    "                data1.append(find.group(0))    \n",
    "            else:\n",
    "                print(\"No Price\")\n",
    "                data1.append(0)\n",
    "            prices_df= pd.concat([prices_df,pd.DataFrame(data1).T],axis=0)\n",
    "            href_reviews = soup.find('a',attrs={'class':'viewallbnt'})\n",
    "            if href_reviews:\n",
    "                url = href_reviews.get('href')\n",
    "                soup = set_url_parse(url)\n",
    "                all_rev_href = soup.find_all('span',attrs={'class':'rvewdetailheading'})\n",
    "                for i in all_rev_href:\n",
    "                    data = []\n",
    "                    data.append(brands[counter])\n",
    "                    data.append(car_names[car_url])\n",
    "                    l = i.find('a')\n",
    "                    url = l.get('href')\n",
    "                    soup = set_url_parse(url)\n",
    "                    tmp = soup.find('h1',attrs={'itemprop':'name'})\n",
    "                    heading = tmp.text\n",
    "                    data.append(heading)\n",
    "                    tmp = soup.find('div',attrs={'itemprop':'reviewBody'})\n",
    "                    data.append(tmp.text)\n",
    "                    tmp = soup.find_all('span',attrs={'class':'starorange'})\n",
    "                    if tmp:\n",
    "                        data.append(len(tmp))\n",
    "                    reviews_df = pd.concat([reviews_df,pd.DataFrame(data).T],axis=0)\n",
    "            else:\n",
    "                print(\"No all reviews Button! checking for reviews\")\n",
    "                all_rev_href = soup.find_all('ul',attrs={'class':'reviewlist'})\n",
    "                if all_rev_href:\n",
    "                    print(\"Review on same page\")\n",
    "                    data = []\n",
    "                    data.append(brands[counter])\n",
    "                    data.append(car_names[car_url])\n",
    "                    data.append(\"Not given.\")\n",
    "                    for kkk in all_rev_href:\n",
    "                        mm = kkk.find_all('span')\n",
    "                        for kk in mm:\n",
    "                            data.append(kk.text)\n",
    "                    tmp = soup.find_all('span',attrs={'class':'starorange'})\n",
    "                    if tmp:\n",
    "                        data.append(len(tmp))\n",
    "                    reviews_df = pd.concat([reviews_df,pd.DataFrame(data).T],axis=0)\n",
    "                else:\n",
    "                    print(\"No Reviews\")\n",
    "    counter = counter + 1"
   ]
  },
  {
   "cell_type": "code",
   "execution_count": null,
   "metadata": {},
   "outputs": [],
   "source": [
    "#reviews_df.drop(range(5,39),inplace=True,axis=1)\n",
    "reviews_df.columns = ['Brand','Name','Heading','Description','Rating']\n",
    "prices_df.columns = ['Car_name','Price']"
   ]
  },
  {
   "cell_type": "code",
   "execution_count": null,
   "metadata": {},
   "outputs": [],
   "source": [
    "print(len(prices_df))"
   ]
  },
  {
   "cell_type": "code",
   "execution_count": null,
   "metadata": {},
   "outputs": [],
   "source": [
    "len(reviews_df)"
   ]
  },
  {
   "cell_type": "code",
   "execution_count": null,
   "metadata": {
    "collapsed": true
   },
   "outputs": [],
   "source": [
    "with open('mypickle.pickle', 'wb') as f:\n",
    "    pickle.dump(reviews_df, f)"
   ]
  },
  {
   "cell_type": "code",
   "execution_count": null,
   "metadata": {
    "collapsed": true
   },
   "outputs": [],
   "source": [
    "with open('mypickle1.pickle', 'wb') as f:\n",
    "    pickle.dump(prices_df, f)"
   ]
  },
  {
   "cell_type": "code",
   "execution_count": null,
   "metadata": {},
   "outputs": [],
   "source": [
    "reviews_df.head()"
   ]
  },
  {
   "cell_type": "code",
   "execution_count": null,
   "metadata": {
    "collapsed": true
   },
   "outputs": [],
   "source": []
  }
 ],
 "metadata": {
  "kernelspec": {
   "display_name": "Python 2",
   "language": "python",
   "name": "python2"
  },
  "language_info": {
   "codemirror_mode": {
    "name": "ipython",
    "version": 2
   },
   "file_extension": ".py",
   "mimetype": "text/x-python",
   "name": "python",
   "nbconvert_exporter": "python",
   "pygments_lexer": "ipython2",
   "version": "2.7.14"
  }
 },
 "nbformat": 4,
 "nbformat_minor": 2
}
